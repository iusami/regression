{
 "cells": [
  {
   "cell_type": "code",
   "execution_count": 1,
   "metadata": {},
   "outputs": [],
   "source": [
    "from sklearn import datasets, linear_model\n",
    "from sklearn.metrics import mean_squared_error, r2_score\n",
    "from sklearn.preprocessing import PolynomialFeatures\n",
    "import numpy as np\n",
    "import scipy\n",
    "import pandas as pd\n",
    "import matplotlib.pyplot as plt\n",
    "import seaborn as sb\n",
    "\n",
    "%matplotlib inline\n",
    "\n",
    "dframe = pd.read_csv(\"winequality-red.csv\", sep=\";\")"
   ]
  },
  {
   "cell_type": "code",
   "execution_count": 8,
   "metadata": {
    "scrolled": true
   },
   "outputs": [],
   "source": [
    "#get normalized dataframe\n",
    "dframe_normarized =  dframe.apply(lambda x: (x - np.mean(x)) / (np.max(x) - np.min(x)))\n",
    "wine_except_y = dframe_normarized.drop(\"quality\",axis=1) \n",
    "X = wine_except_y.as_matrix()\n",
    "Y = dframe_normarized[\"quality\"].as_matrix()"
   ]
  },
  {
   "cell_type": "code",
   "execution_count": 9,
   "metadata": {},
   "outputs": [
    {
     "name": "stdout",
     "output_type": "stream",
     "text": [
      "    Coefficients                  Name\n",
      "2       0.036513           citric acid\n",
      "3       0.047687        residual sugar\n",
      "7       0.048708               density\n",
      "0       0.056479         fixed acidity\n",
      "5       0.061931   free sulfur dioxide\n",
      "8       0.105068                    pH\n",
      "6       0.184775  total sulfur dioxide\n",
      "4       0.224532             chlorides\n",
      "9       0.306056             sulphates\n",
      "1       0.316408      volatile acidity\n",
      "10      0.359057               alcohol\n",
      "    Coefficients1  Coefficients2                  Name\n",
      "0    1.053554e-15       0.090941         fixed acidity\n",
      "1    1.053554e-15       0.090941      volatile acidity\n",
      "2    1.053554e-15       0.090941           citric acid\n",
      "3    1.053554e-15       0.090941        residual sugar\n",
      "4    1.053554e-15       0.090941             chlorides\n",
      "5    1.053554e-15       0.090941   free sulfur dioxide\n",
      "6    1.053554e-15       0.090941  total sulfur dioxide\n",
      "7    1.053554e-15       0.090941               density\n",
      "8    1.053554e-15       0.090941                    pH\n",
      "9    1.053554e-15       0.090941             sulphates\n",
      "10   1.053554e-15       0.090941               alcohol\n",
      "1.2701558656450794e-15\n",
      "0.017827775011303754\n"
     ]
    }
   ],
   "source": [
    "#create model\n",
    "regre = linear_model.LinearRegression()\n",
    "regre_cubic = linear_model.LinearRegression()\n",
    "\n",
    "#non linear\n",
    "cubic = PolynomialFeatures(degree=2)\n",
    "X_cubic = cubic.fit_transform(X)\n",
    "\n",
    "#Train model\n",
    "regre.fit(X, Y)\n",
    "regre_cubic.fit(X_cubic, Y)\n",
    "\n",
    "# モデル式用に変数を作成\n",
    "X_fit = np.arange(X.min(), X.max(), 1)[:, np.newaxis]\n",
    "\n",
    "\n",
    "#predict\n",
    "y_pred = regre.predict(X_fit)\n",
    "y_cubic_pred =\n",
    "\n",
    "#回帰係数。y=ax+bのaにあたる\n",
    "print(pd.DataFrame({\"Name\":wine_except_y.columns,\n",
    "                    \"Coefficients\":np.abs(regre.coef_)}).sort_values(by='Coefficients') )\n",
    "\n",
    "print(pd.DataFrame({\"Name\":wine_except_y.columns,\n",
    "                    \"Coefficients1\":np.abs(regre_cubic.coef_)[0],\n",
    "                    \"Coefficients2\":np.abs(regre_cubic.coef_)[1]}).sort_values(by='Coefficients1') )\n",
    "\n",
    "# 切片 (誤差)\n",
    "print(regre.intercept_)\n",
    "print(regre_cubic.intercept_)\n",
    "\n",
    "#R^2\n",
    "#決定係数。１に近いほど性能が良い。\n",
    "print(\"R^2:\",r2_score(diabetes_Y_train,diabetes_y_pred))"
   ]
  },
  {
   "cell_type": "code",
   "execution_count": null,
   "metadata": {},
   "outputs": [],
   "source": []
  }
 ],
 "metadata": {
  "kernelspec": {
   "display_name": "Python 3",
   "language": "python",
   "name": "python3"
  },
  "language_info": {
   "codemirror_mode": {
    "name": "ipython",
    "version": 3
   },
   "file_extension": ".py",
   "mimetype": "text/x-python",
   "name": "python",
   "nbconvert_exporter": "python",
   "pygments_lexer": "ipython3",
   "version": "3.6.4"
  }
 },
 "nbformat": 4,
 "nbformat_minor": 2
}
