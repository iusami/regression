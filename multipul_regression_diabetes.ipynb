{
 "cells": [
  {
   "cell_type": "code",
   "execution_count": 12,
   "metadata": {},
   "outputs": [],
   "source": [
    "from sklearn import datasets, linear_model\n",
    "from sklearn.metrics import mean_squared_error, r2_score\n",
    "from sklearn.preprocessing import PolynomialFeatures\n",
    "import numpy as np\n",
    "import scipy\n",
    "import pandas as pd\n",
    "import matplotlib.pyplot as plt\n",
    "import seaborn as sb\n",
    "\n",
    "%matplotlib inline\n",
    "\n",
    "boston = datasets.load_boston()"
   ]
  },
  {
   "cell_type": "code",
   "execution_count": 13,
   "metadata": {
    "scrolled": true
   },
   "outputs": [
    {
     "name": "stdout",
     "output_type": "stream",
     "text": [
      "      CRIM    ZN  INDUS  CHAS    NOX     RM   AGE     DIS  RAD    TAX  \\\n",
      "0  0.00632  18.0   2.31   0.0  0.538  6.575  65.2  4.0900  1.0  296.0   \n",
      "1  0.02731   0.0   7.07   0.0  0.469  6.421  78.9  4.9671  2.0  242.0   \n",
      "2  0.02729   0.0   7.07   0.0  0.469  7.185  61.1  4.9671  2.0  242.0   \n",
      "3  0.03237   0.0   2.18   0.0  0.458  6.998  45.8  6.0622  3.0  222.0   \n",
      "4  0.06905   0.0   2.18   0.0  0.458  7.147  54.2  6.0622  3.0  222.0   \n",
      "\n",
      "   PTRATIO       B  LSTAT     y  \n",
      "0     15.3  396.90   4.98  24.0  \n",
      "1     17.8  396.90   9.14  21.6  \n",
      "2     17.8  392.83   4.03  34.7  \n",
      "3     18.7  394.63   2.94  33.4  \n",
      "4     18.7  396.90   5.33  36.2  \n"
     ]
    }
   ],
   "source": [
    "dframe = pd.DataFrame(boston.data)\n",
    "dframe.columns = boston.feature_names\n",
    "dframe[\"y\"] = boston.target\n",
    "print(dframe.head())\n"
   ]
  },
  {
   "cell_type": "code",
   "execution_count": 18,
   "metadata": {
    "scrolled": true
   },
   "outputs": [],
   "source": [
    "#get normalized dataframe\n",
    "dframe_normarized = ((dframe.T - dframe.T.min()) / (dframe.T.max() - dframe.T.min())).T\n",
    "boston_except_y = dframe_normarized.drop(\"y\",axis=1) \n",
    "X = boston_except_y.as_matrix()\n",
    "Y = dframe_normarized[\"y\"].as_matrix()"
   ]
  },
  {
   "cell_type": "code",
   "execution_count": 19,
   "metadata": {},
   "outputs": [
    {
     "name": "stdout",
     "output_type": "stream",
     "text": [
      "    Coefficients     Name\n",
      "9       0.012702      TAX\n",
      "11      0.013706        B\n",
      "2       0.015744    INDUS\n",
      "1       0.028490       ZN\n",
      "6       0.030205      AGE\n",
      "0       0.100453     CRIM\n",
      "8       0.214236      RAD\n",
      "12      0.276346    LSTAT\n",
      "10      0.675680  PTRATIO\n",
      "7       1.012043      DIS\n",
      "3       1.830520     CHAS\n",
      "4       4.995427      NOX\n",
      "5       7.038581       RM\n",
      "    Coefficients1  Coefficients2     Name\n",
      "0    2.908732e+12      40.263566     CRIM\n",
      "1    2.908732e+12      40.263566       ZN\n",
      "2    2.908732e+12      40.263566    INDUS\n",
      "3    2.908732e+12      40.263566     CHAS\n",
      "4    2.908732e+12      40.263566      NOX\n",
      "5    2.908732e+12      40.263566       RM\n",
      "6    2.908732e+12      40.263566      AGE\n",
      "7    2.908732e+12      40.263566      DIS\n",
      "8    2.908732e+12      40.263566      RAD\n",
      "9    2.908732e+12      40.263566      TAX\n",
      "10   2.908732e+12      40.263566  PTRATIO\n",
      "11   2.908732e+12      40.263566        B\n",
      "12   2.908732e+12      40.263566    LSTAT\n",
      "0.0020277953763299245\n",
      "-2908732043315.173\n"
     ]
    }
   ],
   "source": [
    "#create model\n",
    "regre = linear_model.LinearRegression()\n",
    "regre_cubic = linear_model.LinearRegression()\n",
    "\n",
    "#non linear\n",
    "cubic = PolynomialFeatures(degree=2)\n",
    "X_cubic = cubic.fit_transform(X)\n",
    "\n",
    "#Train model\n",
    "regre.fit(X, Y)\n",
    "regre_cubic.fit(X_cubic, Y)\n",
    "\n",
    "\n",
    "#回帰係数。y=ax+bのaにあたる\n",
    "print(pd.DataFrame({\"Name\":boston_except_y.columns,\n",
    "                    \"Coefficients\":np.abs(regre.coef_)}).sort_values(by='Coefficients') )\n",
    "\n",
    "print(pd.DataFrame({\"Name\":boston_except_y.columns,\n",
    "                    \"Coefficients1\":np.abs(regre_cubic.coef_)[0],\n",
    "                    \"Coefficients2\":np.abs(regre_cubic.coef_)[1]}).sort_values(by='Coefficients1') )\n",
    "\n",
    "# 切片 (誤差)\n",
    "print(regre.intercept_)\n",
    "print(regre_cubic.intercept_)\n"
   ]
  },
  {
   "cell_type": "code",
   "execution_count": null,
   "metadata": {},
   "outputs": [],
   "source": []
  }
 ],
 "metadata": {
  "kernelspec": {
   "display_name": "Python 3",
   "language": "python",
   "name": "python3"
  },
  "language_info": {
   "codemirror_mode": {
    "name": "ipython",
    "version": 3
   },
   "file_extension": ".py",
   "mimetype": "text/x-python",
   "name": "python",
   "nbconvert_exporter": "python",
   "pygments_lexer": "ipython3",
   "version": "3.5.2"
  }
 },
 "nbformat": 4,
 "nbformat_minor": 2
}
