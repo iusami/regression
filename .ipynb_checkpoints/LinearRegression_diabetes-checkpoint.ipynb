{
 "cells": [
  {
   "cell_type": "code",
   "execution_count": 4,
   "metadata": {},
   "outputs": [],
   "source": [
    "from sklearn import datasets, linear_model\n",
    "from sklearn.metrics import mean_squared_error, r2_score\n",
    "import numpy as np\n",
    "import pandas as pd\n",
    "import matplotlib.pyplot as plt\n",
    "\n",
    "%matplotlib inline\n",
    "\n",
    "diabetes = datasets.load_diabetes()\n",
    "\n",
    "\n"
   ]
  },
  {
   "cell_type": "code",
   "execution_count": 5,
   "metadata": {
    "scrolled": false
   },
   "outputs": [
    {
     "name": "stdout",
     "output_type": "stream",
     "text": [
      "        age       sex       bmi       map        tc       ldl       hdl  \\\n",
      "0  0.038076  0.050680  0.061696  0.021872 -0.044223 -0.034821 -0.043401   \n",
      "1 -0.001882 -0.044642 -0.051474 -0.026328 -0.008449 -0.019163  0.074412   \n",
      "2  0.085299  0.050680  0.044451 -0.005671 -0.045599 -0.034194 -0.032356   \n",
      "3 -0.089063 -0.044642 -0.011595 -0.036656  0.012191  0.024991 -0.036038   \n",
      "4  0.005383 -0.044642 -0.036385  0.021872  0.003935  0.015596  0.008142   \n",
      "\n",
      "        tch       ltg       glu      y  \n",
      "0 -0.002592  0.019908 -0.017646  151.0  \n",
      "1 -0.039493 -0.068330 -0.092204   75.0  \n",
      "2 -0.002592  0.002864 -0.025930  141.0  \n",
      "3  0.034309  0.022692 -0.009362  206.0  \n",
      "4 -0.002592 -0.031991 -0.046641  135.0  \n"
     ]
    }
   ],
   "source": [
    "dframe = pd.DataFrame(diabetes.data)\n",
    "#dframe.columns = diabetes.feature_names\n",
    "dframe.columns = \"age\", \"sex\", \"bmi\", \"map\", \"tc\", \"ldl\", \"hdl\", \"tch\", \"ltg\", \"glu\"\n",
    "dframe[\"y\"] = diabetes.target\n",
    "print(dframe.head())\n"
   ]
  },
  {
   "cell_type": "code",
   "execution_count": 22,
   "metadata": {},
   "outputs": [
    {
     "name": "stdout",
     "output_type": "stream",
     "text": [
      "[121.23026398 245.8342223  204.64283112 270.54905701  75.91973368\n",
      " 241.71508318 104.75370751 141.82595957 126.37918788 208.76197024\n",
      " 234.50658973 152.12380737 159.33230082 161.39187038 229.35766583\n",
      " 221.11938759 129.46854222 100.63456839 118.14090964 168.60036384\n",
      " 227.29809627 115.0515553  163.45143994 114.02177053 120.2004792\n",
      " 158.30251604 237.59594406 121.23026398  98.57499883 123.28983354\n",
      " 205.6726159   95.48564449 154.18337693 130.498327    82.09844236\n",
      " 171.68971818 137.70682045 137.70682045 190.22584421  83.12822714]\n",
      "Coefficiens: [955.44001079]\n",
      "Mean Squared Error: 3309.1621446205377\n",
      "R^2: 0.421358245192581\n"
     ]
    }
   ],
   "source": [
    "#get BMI data and modificate it to ndarray\n",
    "diabetes_X = diabetes.data[:,np.newaxis,2]\n",
    "#print(diabetes_X)\n",
    "#diabetes_X_panda = dframe[\"bmi\"]\n",
    "#print(np.reshape(diabetes_X_panda.values,[diabetes_X_panda.values.shape[0],1]).shape)\n",
    "\n",
    "#split data into training/test\n",
    "diabetes_X_train = diabetes_X[:-40]\n",
    "diabetes_X_test = diabetes_X[-40:]\n",
    "diabetes_Y_train = diabetes.target[:-40]\n",
    "diabetes_Y_test = diabetes.target[-40:]\n",
    "\n",
    "#create model\n",
    "regre = linear_model.LinearRegression()\n",
    "\n",
    "#Train model\n",
    "regre.fit(diabetes_X_train, diabetes_Y_train)\n",
    "\n",
    "#Make predictions using the test data\n",
    "diabetes_y_pred = regre.predict(diabetes_X_test)\n",
    "print(diabetes_y_pred)\n",
    "#coefficients\n",
    "#回帰係数。y=ax+bのaにあたる\n",
    "print(\"Coefficiens:\",regre.coef_)\n",
    "\n",
    "#Mean Squared Error\n",
    "#平均二乗誤差。小さければ性能が良い。\n",
    "print(\"Mean Squared Error:\",mean_squared_error(diabetes_Y_test,diabetes_y_pred))\n",
    "\n",
    "#R^2\n",
    "#決定係数。１に近いほど性能が良い。\n",
    "print(\"R^2:\",r2_score(diabetes_Y_test,diabetes_y_pred))"
   ]
  },
  {
   "cell_type": "code",
   "execution_count": 23,
   "metadata": {},
   "outputs": [
    {
     "data": {
      "image/png": "[encoded data removed]",
      "text/plain": [
       "<matplotlib.figure.Figure at 0x7febb354af28>"
      ]
     },
     "metadata": {},
     "output_type": "display_data"
    }
   ],
   "source": [
    "# Plot outputs\n",
    "plt.scatter(diabetes_X_test, diabetes_Y_test,  color='black')\n",
    "plt.plot(diabetes_X_test, diabetes_y_pred, color='blue', linewidth=3)\n",
    "#plt.plot(diabetes_X_test, diabetes_y_pred, color='blue', linewidth=3)\n",
    "\n",
    "#plt.xticks(())\n",
    "#plt.yticks(())\n",
    "\n",
    "plt.show()"
   ]
  },
  {
   "cell_type": "code",
   "execution_count": null,
   "metadata": {},
   "outputs": [],
   "source": []
  }
 ],
 "metadata": {
  "kernelspec": {
   "display_name": "Python 3",
   "language": "python",
   "name": "python3"
  },
  "language_info": {
   "codemirror_mode": {
    "name": "ipython",
    "version": 3
   },
   "file_extension": ".py",
   "mimetype": "text/x-python",
   "name": "python",
   "nbconvert_exporter": "python",
   "pygments_lexer": "ipython3",
   "version": "3.6.4"
  }
 },
 "nbformat": 4,
 "nbformat_minor": 2
}
