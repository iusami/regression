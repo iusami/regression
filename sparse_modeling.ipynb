{
 "cells": [
  {
   "cell_type": "code",
   "execution_count": 136,
   "metadata": {},
   "outputs": [],
   "source": [
    "from sklearn import datasets, linear_model\n",
    "from sklearn.linear_model import LinearRegression, Lasso, OrthogonalMatchingPursuit\n",
    "from sklearn.metrics import mean_squared_error, r2_score\n",
    "from sklearn.preprocessing import PolynomialFeatures\n",
    "import numpy as np\n",
    "import scipy\n",
    "import scipy.stats\n",
    "import pandas as pd\n",
    "import matplotlib.pyplot as plt\n",
    "import seaborn as sb\n",
    "import math\n",
    "\n",
    "%matplotlib inline"
   ]
  },
  {
   "cell_type": "code",
   "execution_count": 140,
   "metadata": {},
   "outputs": [
    {
     "ename": "TypeError",
     "evalue": "scatter() missing 1 required positional argument: 'y'",
     "output_type": "error",
     "traceback": [
      "\u001b[0;31m---------------------------------------------------------------------------\u001b[0m",
      "\u001b[0;31mTypeError\u001b[0m                                 Traceback (most recent call last)",
      "\u001b[0;32m<ipython-input-140-527e9e8cbf13>\u001b[0m in \u001b[0;36m<module>\u001b[0;34m()\u001b[0m\n\u001b[1;32m      7\u001b[0m \u001b[0;31m#print(\"---\")\u001b[0m\u001b[0;34m\u001b[0m\u001b[0;34m\u001b[0m\u001b[0m\n\u001b[1;32m      8\u001b[0m \u001b[0;31m#print(numbers_y)\u001b[0m\u001b[0;34m\u001b[0m\u001b[0;34m\u001b[0m\u001b[0m\n\u001b[0;32m----> 9\u001b[0;31m \u001b[0mplt\u001b[0m\u001b[0;34m.\u001b[0m\u001b[0mscatter\u001b[0m\u001b[0;34m(\u001b[0m\u001b[0mnp\u001b[0m\u001b[0;34m.\u001b[0m\u001b[0msin\u001b[0m\u001b[0;34m(\u001b[0m\u001b[0msin\u001b[0m\u001b[0;34m)\u001b[0m\u001b[0;34m,\u001b[0m \u001b[0mindex\u001b[0m\u001b[0;34m=\u001b[0m\u001b[0msin\u001b[0m\u001b[0;34m,\u001b[0m\u001b[0mc\u001b[0m\u001b[0;34m=\u001b[0m\u001b[0;34m\"red\"\u001b[0m\u001b[0;34m)\u001b[0m\u001b[0;34m\u001b[0m\u001b[0m\n\u001b[0m",
      "\u001b[0;31mTypeError\u001b[0m: scatter() missing 1 required positional argument: 'y'"
     ]
    }
   ],
   "source": [
    "numbers_X,numbers_y = [],[]\n",
    "\n",
    "n = 100\n",
    "sin = np.linspace(0,2*np.pi,n)\n",
    "\n",
    "#print(numbers_X)\n",
    "#print(\"---\")\n",
    "#print(numbers_y)\n",
    "plt.scatter(, index=sin,c=\"red\")"
   ]
  },
  {
   "cell_type": "code",
   "execution_count": 133,
   "metadata": {},
   "outputs": [
    {
     "data": {
      "text/plain": [
       "<matplotlib.collections.PathCollection at 0x7fd79611bdd8>"
      ]
     },
     "execution_count": 133,
     "metadata": {},
     "output_type": "execute_result"
    },
    {
     "data": {
      "image/png": "[encoded data removed]",
      "text/plain": [
       "<matplotlib.figure.Figure at 0x7fd7966a02e8>"
      ]
     },
     "metadata": {
      "needs_background": "light"
     },
     "output_type": "display_data"
    }
   ],
   "source": [
    "sp_numbers_X,sp_numbers_y = [],[]\n",
    "mu = 50\n",
    "sigma = 20\n",
    "for i in range(20):\n",
    "    gauss = np.random.randint(0,100)\n",
    "    f = lambda x: (math.exp(-(x-mu)**2/(2*sigma)) / math.sqrt(2*math.pi*sigma))   \n",
    "    sp_numbers_X.append(gauss)\n",
    "    sp_numbers_y.append(f(gauss))\n",
    "#print(numbers_X)\n",
    "#print(\"---\")\n",
    "#print(numbers_y)\n",
    "plt.scatter(sp_numbers_X,sp_numbers_y, c=\"red\")"
   ]
  },
  {
   "cell_type": "code",
   "execution_count": 134,
   "metadata": {},
   "outputs": [
    {
     "data": {
      "image/png": "[encoded data removed]",
      "text/plain": [
       "<matplotlib.figure.Figure at 0x7fd795f17e48>"
      ]
     },
     "metadata": {
      "needs_background": "light"
     },
     "output_type": "display_data"
    },
    {
     "name": "stdout",
     "output_type": "stream",
     "text": [
      "(1000, 1) (1000,)\n"
     ]
    },
    {
     "data": {
      "image/png": "[encoded data removed]",
      "text/plain": [
       "<matplotlib.figure.Figure at 0x7fd795f1dba8>"
      ]
     },
     "metadata": {
      "needs_background": "light"
     },
     "output_type": "display_data"
    }
   ],
   "source": [
    "#create model\n",
    "lin = LinearRegression() \n",
    "lasso = Lasso() \n",
    "omp = OrthogonalMatchingPursuit()\n",
    "\n",
    "train_X = np.empty(len(numbers_X))\n",
    "train_y = np.empty(len(numbers_y))\n",
    "sp_train_X = np.empty(len(sp_numbers_X))\n",
    "sp_train_y = np.empty(len(sp_numbers_y))\n",
    "\n",
    "train_X[:] = numbers_X\n",
    "train_y[:] = numbers_y\n",
    "sp_train_X[:] = sp_numbers_X\n",
    "sp_train_y[:] = sp_numbers_y\n",
    "\n",
    "#train_X=scipy.stats.zscore(numbers_X)\n",
    "#train_y=scipy.stats.zscore(numbers_y)\n",
    "#sp_train_X=scipy.stats.zscore(sp_numbers_X)\n",
    "#sp_train_y=scipy.stats.zscore(sp_numbers_y)\n",
    "\n",
    "X_train=train_X.reshape(-1,1)\n",
    "y_train=train_y.reshape(-1,1)\n",
    "sp_train_X=sp_train_X.reshape(-1,1)\n",
    "sp_train_y=sp_train_y.reshape(-1,1)\n",
    "\n",
    "cubic = PolynomialFeatures(degree=3)\n",
    "X_cubic = cubic.fit_transform(X_train)\n",
    "\n",
    "\n",
    "\"\"\"\"\n",
    "X_df = pd.DataFrame(train_X,columns = [\"X\"])\n",
    "y_df = pd.DataFrame(train_y,columns = [\"y\"])\n",
    "normal_df = pd.concat([X_df,y_df],axis=1)\n",
    "sp_X_df = pd.DataFrame(sp_train_X,columns = [\"X\"])\n",
    "sp_y_df = pd.DataFrame(sp_train_y,columns = [\"y\"])\n",
    "sparse_df = pd.concat([sp_X_df,sp_y_df],axis=1)\n",
    "\n",
    "print(normal_df)\n",
    "print(sparse_df)\n",
    "\"\"\"\n",
    "\n",
    "#normal training\n",
    "#lin.fit(X_train,train_y)\n",
    "#lasso.fit(X_train,train_y)\n",
    "#omp.fit(X_train,train_y)\n",
    "lin.fit(X_cubic,train_y)\n",
    "lasso.fit(X_cubic,train_y)\n",
    "omp.fit(X_cubic,train_y)\n",
    "\n",
    "#prediction\n",
    "#lin_pred = lin.predict(X_train)\n",
    "#lasso_pred = lasso.predict(X_train)\n",
    "#omp_pred = omp.predict(X_train)\n",
    "lin_pred = lin.predict(X_cubic)\n",
    "lasso_pred = lasso.predict(X_cubic)\n",
    "omp_pred = omp.predict(X_cubic)\n",
    "\n",
    "\n",
    "#print(lin_pred)\n",
    "#print(lin_pred.reshape(len(train_X)))\n",
    "#plot\n",
    "#print(X_cubic.shape,lin_pred.shape)\n",
    "plt.scatter(X_train,train_y,label=\"gauss\",c=\"red\")\n",
    "plt.scatter(X_train,lin_pred,label=\"lin\",c=\"blue\")\n",
    "plt.scatter(X_train,lasso_pred.reshape(len(train_X)),label=\"lasso\", c=\"green\")\n",
    "plt.scatter(X_train,omp_pred.reshape(len(train_X)),label=\"omp\",c=\"orange\")\n",
    "plt.legend()\n",
    "plt.show()\n",
    "#plot test\n",
    "test_X  = np.linspace(0,100,1000).reshape(1000,1)\n",
    "test_X_cubic = cubic.fit_transform(test_X)\n",
    "test_lin_pred = lin.predict(test_X_cubic)\n",
    "print(test_X.shape,test_lin_pred.shape)\n",
    "plt.scatter(test_X,test_lin_pred.reshape(len(test_X)),label=\"lin\",c=\"blue\")\n",
    "plt.scatter(test_X,test_lin_pred.reshape(len(test_X)),label=\"lasso\",c=\"green\")\n",
    "plt.scatter(test_X,test_lin_pred.reshape(len(test_X)),label=\"omp\",c=\"orange\")\n",
    "plt.legend()\n",
    "plt.show()"
   ]
  },
  {
   "cell_type": "code",
   "execution_count": null,
   "metadata": {},
   "outputs": [],
   "source": [
    "sp_X_cubic = cubic.fit_transform(sp_X_train)\n",
    "lin.fit(sp_X_cubic,sp_train_y)\n",
    "lasso.fit(sp_X_cubic,sp_train_y)\n",
    "omp.fit(sp_X_cubic,sp_train_y)\n",
    "lin_pred = lin.predict(sp_X_cubic)\n",
    "lasso_pred = lasso.predict(sp_X_cubic)\n",
    "omp_pred = omp.predict(sp_X_cubic)"
   ]
  }
 ],
 "metadata": {
  "kernelspec": {
   "display_name": "Python 3",
   "language": "python",
   "name": "python3"
  },
  "language_info": {
   "codemirror_mode": {
    "name": "ipython",
    "version": 3
   },
   "file_extension": ".py",
   "mimetype": "text/x-python",
   "name": "python",
   "nbconvert_exporter": "python",
   "pygments_lexer": "ipython3",
   "version": "3.5.2"
  }
 },
 "nbformat": 4,
 "nbformat_minor": 2
}
